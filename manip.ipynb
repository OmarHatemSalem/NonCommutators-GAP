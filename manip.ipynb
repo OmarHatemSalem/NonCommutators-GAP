{
 "cells": [
  {
   "cell_type": "code",
   "execution_count": 2,
   "metadata": {},
   "outputs": [],
   "source": [
    "# iso =\"[ F1, F2, F3, F4, F5, F6, F7, F8, F9, F10 ] -> [ F10*F8*F7*F6*F4*F2, F9*F8*F3*F2, F9*F8*F6*F2*F1, F8*F6*F2, F10*F7*F6*F5*F2,   F10*F9*F7*F6, F8, F8*F6, F10*F8*F7*F6, F9*F7*F6 ]\"\n",
    "iso = \"[ F1, F2, F3, F4, F5, F6, F7, F8, F9, F10 ] -> [ F10*F9*F7*F6*F4*F1, F9*F4, F6*F4*F2, F10*F9*F8*F5*F4, F9*F8*F7*F4*F3,   F10*F9*F7*F6, F8*F7, F8*F6, F10*F9*F7, F9*F7*F6 ]\""
   ]
  },
  {
   "cell_type": "code",
   "execution_count": 3,
   "metadata": {},
   "outputs": [
    {
     "name": "stdout",
     "output_type": "stream",
     "text": [
      "1,2,3,4,5,6,7,8,9,10->10*9*7*6*4*1,9*4,6*4*2,10*9*8*5*4,9*8*7*4*3,10*9*7*6,8*7,8*6,10*9*7,9*7*6\n",
      "[['1', '2', '3', '4', '5', '6', '7', '8', '9', '10'], [['10', '9', '7', '6', '4', '1'], ['9', '4'], ['6', '4', '2'], ['10', '9', '8', '5', '4'], ['9', '8', '7', '4', '3'], ['10', '9', '7', '6'], ['8', '7'], ['8', '6'], ['10', '9', '7'], ['9', '7', '6']]]\n"
     ]
    }
   ],
   "source": [
    "iso = iso.replace(' ', \"\")\n",
    "iso = iso.replace('[', \"\")\n",
    "iso = iso.replace(']', \"\")\n",
    "iso = iso.replace('F', \"\")\n",
    "print(iso)\n",
    "ls = iso.split(\"->\")\n",
    "ls = [x.split(',') for x in ls]\n",
    "ls[1] = [x.split('*') for x in ls[1]]\n",
    "print(ls)"
   ]
  },
  {
   "cell_type": "code",
   "execution_count": 4,
   "metadata": {},
   "outputs": [],
   "source": [
    "def convertListtoBin(str, size):\n",
    "    ans = ['0'] * size\n",
    "    for x in str:\n",
    "        ans[-int(x)] = \"1\"\n",
    "    \n",
    "    return ''.join(ans)"
   ]
  },
  {
   "cell_type": "code",
   "execution_count": 5,
   "metadata": {},
   "outputs": [
    {
     "data": {
      "text/plain": [
       "'0000000101'"
      ]
     },
     "execution_count": 5,
     "metadata": {},
     "output_type": "execute_result"
    }
   ],
   "source": [
    "convertListtoBin(['1', '3'], 10)"
   ]
  },
  {
   "cell_type": "code",
   "execution_count": 6,
   "metadata": {},
   "outputs": [],
   "source": [
    "ls[0] = [convertListtoBin(x, 10) for x in ls[0]]\n",
    "\n"
   ]
  },
  {
   "cell_type": "code",
   "execution_count": 7,
   "metadata": {},
   "outputs": [
    {
     "data": {
      "text/plain": [
       "[['0000000001',\n",
       "  '0000000010',\n",
       "  '0000000100',\n",
       "  '0000001000',\n",
       "  '0000010000',\n",
       "  '0000100000',\n",
       "  '0001000000',\n",
       "  '0010000000',\n",
       "  '0100000000',\n",
       "  '1000000001'],\n",
       " ['1101101001',\n",
       "  '0100001000',\n",
       "  '0000101010',\n",
       "  '1110011000',\n",
       "  '0111001100',\n",
       "  '1101100000',\n",
       "  '0011000000',\n",
       "  '0010100000',\n",
       "  '1101000000',\n",
       "  '0101100000']]"
      ]
     },
     "execution_count": 7,
     "metadata": {},
     "output_type": "execute_result"
    }
   ],
   "source": [
    "ls[1] = [convertListtoBin(x, 10) for x in ls[1]]\n",
    "ls\n"
   ]
  },
  {
   "cell_type": "code",
   "execution_count": 8,
   "metadata": {},
   "outputs": [
    {
     "name": "stdout",
     "output_type": "stream",
     "text": [
      "[('0000000001', '1101101001'), ('0000000010', '0100001000'), ('0000000100', '0000101010'), ('0000001000', '1110011000'), ('0000010000', '0111001100'), ('0000100000', '1101100000'), ('0001000000', '0011000000'), ('0010000000', '0010100000'), ('0100000000', '1101000000'), ('1000000001', '0101100000')]\n"
     ]
    }
   ],
   "source": [
    "ans = list(zip(ls[0], ls[1]))\n",
    "print(ans)"
   ]
  },
  {
   "cell_type": "code",
   "execution_count": 11,
   "metadata": {},
   "outputs": [
    {
     "data": {
      "text/plain": [
       "[[1, 1, 0, 1, 1, 0, 1, 0, 0, 1],\n",
       " [0, 1, 0, 0, 0, 0, 1, 0, 0, 0],\n",
       " [0, 0, 0, 0, 1, 0, 1, 0, 1, 0],\n",
       " [1, 1, 1, 0, 0, 1, 1, 0, 0, 0],\n",
       " [0, 1, 1, 1, 0, 0, 1, 1, 0, 0],\n",
       " [1, 1, 0, 1, 1, 0, 0, 0, 0, 0],\n",
       " [0, 0, 1, 1, 0, 0, 0, 0, 0, 0],\n",
       " [0, 0, 1, 0, 1, 0, 0, 0, 0, 0],\n",
       " [1, 1, 0, 1, 0, 0, 0, 0, 0, 0],\n",
       " [0, 1, 0, 1, 1, 0, 0, 0, 0, 0]]"
      ]
     },
     "execution_count": 11,
     "metadata": {},
     "output_type": "execute_result"
    }
   ],
   "source": [
    "mat = [[int(y) for y in x] for x in ls[1]]\n",
    "mat"
   ]
  },
  {
   "cell_type": "code",
   "execution_count": 12,
   "metadata": {},
   "outputs": [
    {
     "data": {
      "text/plain": [
       "array([[1, 0, 0, 1, 0, 1, 0, 0, 1, 0],\n",
       "       [1, 1, 0, 1, 1, 1, 0, 0, 1, 1],\n",
       "       [0, 0, 0, 1, 1, 0, 1, 1, 0, 0],\n",
       "       [1, 0, 0, 0, 1, 1, 1, 0, 1, 1],\n",
       "       [1, 0, 1, 0, 0, 1, 0, 1, 0, 1],\n",
       "       [0, 0, 0, 1, 0, 0, 0, 0, 0, 0],\n",
       "       [1, 1, 1, 1, 1, 0, 0, 0, 0, 0],\n",
       "       [0, 0, 0, 0, 1, 0, 0, 0, 0, 0],\n",
       "       [0, 0, 1, 0, 0, 0, 0, 0, 0, 0],\n",
       "       [1, 0, 0, 0, 0, 0, 0, 0, 0, 0]])"
      ]
     },
     "execution_count": 12,
     "metadata": {},
     "output_type": "execute_result"
    }
   ],
   "source": [
    "import numpy as np\n",
    "\n",
    "mat_np = np.array(mat)\n",
    "mat_np.T"
   ]
  }
 ],
 "metadata": {
  "kernelspec": {
   "display_name": "Python 3",
   "language": "python",
   "name": "python3"
  },
  "language_info": {
   "codemirror_mode": {
    "name": "ipython",
    "version": 3
   },
   "file_extension": ".py",
   "mimetype": "text/x-python",
   "name": "python",
   "nbconvert_exporter": "python",
   "pygments_lexer": "ipython3",
   "version": "3.10.12"
  }
 },
 "nbformat": 4,
 "nbformat_minor": 2
}
