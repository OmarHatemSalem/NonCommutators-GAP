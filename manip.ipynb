{
 "cells": [
  {
   "cell_type": "code",
   "execution_count": 1,
   "metadata": {},
   "outputs": [],
   "source": [
    "# iso =\"[ F10*F8*F7*F6*F4*F2, F9*F8*F3*F2, F9*F8*F6*F2*F1, F8*F6*F2, F10*F7*F6*F5*F2,   F10*F9*F7*F6, F8, F8*F6, F10*F8*F7*F6, F9*F7*F6 ]\"\n",
    "iso1 = \"[ f1*f3, f1*f4*f5, f1*f2*f3*f4, f1*f2*f4*f5, f1*f2*f3*f4*f5, f8, f6*f7,   f8*f9, f6*f8*f10, f6 ]\"\n",
    "iso2 = \"[ f2*f4, f1*f2*f3, f4, f3*f4, f1*f2*f3*f5, f6, f6*f8, f9, f6*f7, f10 ]\"\n",
    "# iso = \"[ F1, F2, F3, F4, F5, F6, F7, F8, F9, F10 ] -> [ F10*F9*F7*F6*F4*F1, F9*F4, F6*F4*F2, F10*F9*F8*F5*F4, F9*F8*F7*F4*F3,   F10*F9*F7*F6, F8*F7, F8*F6, F10*F9*F7, F9*F7*F6 ]\""
   ]
  },
  {
   "cell_type": "code",
   "execution_count": 3,
   "metadata": {},
   "outputs": [
    {
     "ename": "NameError",
     "evalue": "name 'iso' is not defined",
     "output_type": "error",
     "traceback": [
      "\u001b[0;31m---------------------------------------------------------------------------\u001b[0m",
      "\u001b[0;31mNameError\u001b[0m                                 Traceback (most recent call last)",
      "Cell \u001b[0;32mIn[3], line 1\u001b[0m\n\u001b[0;32m----> 1\u001b[0m iso \u001b[38;5;241m=\u001b[39m \u001b[43miso\u001b[49m\u001b[38;5;241m.\u001b[39mreplace(\u001b[38;5;124m'\u001b[39m\u001b[38;5;124m \u001b[39m\u001b[38;5;124m'\u001b[39m, \u001b[38;5;124m\"\u001b[39m\u001b[38;5;124m\"\u001b[39m)\n\u001b[1;32m      2\u001b[0m iso \u001b[38;5;241m=\u001b[39m iso\u001b[38;5;241m.\u001b[39mreplace(\u001b[38;5;124m'\u001b[39m\u001b[38;5;124m[\u001b[39m\u001b[38;5;124m'\u001b[39m, \u001b[38;5;124m\"\u001b[39m\u001b[38;5;124m\"\u001b[39m)\n\u001b[1;32m      3\u001b[0m iso \u001b[38;5;241m=\u001b[39m iso\u001b[38;5;241m.\u001b[39mreplace(\u001b[38;5;124m'\u001b[39m\u001b[38;5;124m]\u001b[39m\u001b[38;5;124m'\u001b[39m, \u001b[38;5;124m\"\u001b[39m\u001b[38;5;124m\"\u001b[39m)\n",
      "\u001b[0;31mNameError\u001b[0m: name 'iso' is not defined"
     ]
    }
   ],
   "source": [
    "iso = iso.replace(' ', \"\")\n",
    "iso = iso.replace('[', \"\")\n",
    "iso = iso.replace(']', \"\")\n",
    "iso = iso.replace('f', \"\")\n",
    "print(iso)\n",
    "# ls = iso.split(\"->\")\n",
    "ls = iso.split(',') \n",
    "ls = [x.split(\"*\") for x in ls]  \n",
    "# ls[1] = ls[1].split('*') \n",
    "print(ls)"
   ]
  },
  {
   "cell_type": "code",
   "execution_count": 2,
   "metadata": {},
   "outputs": [],
   "source": [
    "def convertListtoBin(str, size):\n",
    "    ans = ['0'] * size\n",
    "    for x in str:\n",
    "        ans[int(x) - 1] = \"1\"\n",
    "    \n",
    "    return ''.join(ans)"
   ]
  },
  {
   "cell_type": "code",
   "execution_count": 3,
   "metadata": {},
   "outputs": [
    {
     "data": {
      "text/plain": [
       "'1010000000'"
      ]
     },
     "execution_count": 3,
     "metadata": {},
     "output_type": "execute_result"
    }
   ],
   "source": [
    "convertListtoBin(['1', '3'], 10)"
   ]
  },
  {
   "cell_type": "code",
   "execution_count": 4,
   "metadata": {},
   "outputs": [
    {
     "ename": "NameError",
     "evalue": "name 'ls' is not defined",
     "output_type": "error",
     "traceback": [
      "\u001b[0;31m---------------------------------------------------------------------------\u001b[0m",
      "\u001b[0;31mNameError\u001b[0m                                 Traceback (most recent call last)",
      "Cell \u001b[0;32mIn[4], line 1\u001b[0m\n\u001b[0;32m----> 1\u001b[0m ls \u001b[38;5;241m=\u001b[39m [convertListtoBin(x, \u001b[38;5;241m10\u001b[39m) \u001b[38;5;28;01mfor\u001b[39;00m x \u001b[38;5;129;01min\u001b[39;00m \u001b[43mls\u001b[49m]\n",
      "\u001b[0;31mNameError\u001b[0m: name 'ls' is not defined"
     ]
    }
   ],
   "source": [
    "ls = [convertListtoBin(x, 10) for x in ls]\n"
   ]
  },
  {
   "cell_type": "code",
   "execution_count": 5,
   "metadata": {},
   "outputs": [
    {
     "ename": "NameError",
     "evalue": "name 'ls' is not defined",
     "output_type": "error",
     "traceback": [
      "\u001b[0;31m---------------------------------------------------------------------------\u001b[0m",
      "\u001b[0;31mNameError\u001b[0m                                 Traceback (most recent call last)",
      "Cell \u001b[0;32mIn[5], line 1\u001b[0m\n\u001b[0;32m----> 1\u001b[0m \u001b[38;5;28mprint\u001b[39m(\u001b[43mls\u001b[49m)\n",
      "\u001b[0;31mNameError\u001b[0m: name 'ls' is not defined"
     ]
    }
   ],
   "source": [
    "print(ls)\n"
   ]
  },
  {
   "cell_type": "code",
   "execution_count": 6,
   "metadata": {},
   "outputs": [
    {
     "ename": "NameError",
     "evalue": "name 'ls' is not defined",
     "output_type": "error",
     "traceback": [
      "\u001b[0;31m---------------------------------------------------------------------------\u001b[0m",
      "\u001b[0;31mNameError\u001b[0m                                 Traceback (most recent call last)",
      "Cell \u001b[0;32mIn[6], line 1\u001b[0m\n\u001b[0;32m----> 1\u001b[0m mat \u001b[38;5;241m=\u001b[39m [[\u001b[38;5;28mint\u001b[39m(y) \u001b[38;5;28;01mfor\u001b[39;00m y \u001b[38;5;129;01min\u001b[39;00m x] \u001b[38;5;28;01mfor\u001b[39;00m x \u001b[38;5;129;01min\u001b[39;00m \u001b[43mls\u001b[49m]\n\u001b[1;32m      2\u001b[0m mat\n",
      "\u001b[0;31mNameError\u001b[0m: name 'ls' is not defined"
     ]
    }
   ],
   "source": [
    "mat = [[int(y) for y in x] for x in ls]\n",
    "mat"
   ]
  },
  {
   "cell_type": "code",
   "execution_count": 7,
   "metadata": {},
   "outputs": [
    {
     "ename": "NameError",
     "evalue": "name 'mat' is not defined",
     "output_type": "error",
     "traceback": [
      "\u001b[0;31m---------------------------------------------------------------------------\u001b[0m",
      "\u001b[0;31mNameError\u001b[0m                                 Traceback (most recent call last)",
      "Cell \u001b[0;32mIn[7], line 3\u001b[0m\n\u001b[1;32m      1\u001b[0m \u001b[38;5;28;01mimport\u001b[39;00m \u001b[38;5;21;01mnumpy\u001b[39;00m \u001b[38;5;28;01mas\u001b[39;00m \u001b[38;5;21;01mnp\u001b[39;00m\n\u001b[0;32m----> 3\u001b[0m mat_np \u001b[38;5;241m=\u001b[39m np\u001b[38;5;241m.\u001b[39marray(\u001b[43mmat\u001b[49m)\n\u001b[1;32m      4\u001b[0m mat_np \u001b[38;5;241m=\u001b[39m mat_np\u001b[38;5;241m.\u001b[39mT\n",
      "\u001b[0;31mNameError\u001b[0m: name 'mat' is not defined"
     ]
    }
   ],
   "source": [
    "import numpy as np\n",
    "\n",
    "mat_np = np.array(mat)\n",
    "mat_np = mat_np.T"
   ]
  },
  {
   "cell_type": "code",
   "execution_count": 8,
   "metadata": {},
   "outputs": [
    {
     "ename": "NameError",
     "evalue": "name 'mat_np' is not defined",
     "output_type": "error",
     "traceback": [
      "\u001b[0;31m---------------------------------------------------------------------------\u001b[0m",
      "\u001b[0;31mNameError\u001b[0m                                 Traceback (most recent call last)",
      "Cell \u001b[0;32mIn[8], line 1\u001b[0m\n\u001b[0;32m----> 1\u001b[0m \u001b[38;5;28mprint\u001b[39m(\u001b[43mmat_np\u001b[49m)\n",
      "\u001b[0;31mNameError\u001b[0m: name 'mat_np' is not defined"
     ]
    }
   ],
   "source": [
    "print(mat_np)"
   ]
  },
  {
   "cell_type": "code",
   "execution_count": 9,
   "metadata": {},
   "outputs": [
    {
     "ename": "NameError",
     "evalue": "name 'mat_np' is not defined",
     "output_type": "error",
     "traceback": [
      "\u001b[0;31m---------------------------------------------------------------------------\u001b[0m",
      "\u001b[0;31mNameError\u001b[0m                                 Traceback (most recent call last)",
      "Cell \u001b[0;32mIn[9], line 1\u001b[0m\n\u001b[0;32m----> 1\u001b[0m np\u001b[38;5;241m.\u001b[39mlinalg\u001b[38;5;241m.\u001b[39mdet(\u001b[43mmat_np\u001b[49m)\n",
      "\u001b[0;31mNameError\u001b[0m: name 'mat_np' is not defined"
     ]
    }
   ],
   "source": [
    "np.linalg.det(mat_np)"
   ]
  },
  {
   "cell_type": "code",
   "execution_count": 4,
   "metadata": {},
   "outputs": [],
   "source": [
    "import numpy as np\n",
    "\n",
    "def getMatrix(iso):\n",
    "    iso = iso.replace(' ', \"\")\n",
    "    iso = iso.replace('[', \"\")\n",
    "    iso = iso.replace(']', \"\")\n",
    "    iso = iso.replace('f', \"\")\n",
    "\n",
    "    ls = iso.split(',') \n",
    "    ls = [x.split(\"*\") for x in ls]  \n",
    "\n",
    "    ls = [convertListtoBin(x, 10) for x in ls]\n",
    "\n",
    "    mat = [[int(y) for y in x] for x in ls]\n",
    "    mat_np = np.array(mat)\n",
    "    mat_np = mat_np.T\n",
    "\n",
    "    return mat_np\n"
   ]
  },
  {
   "cell_type": "code",
   "execution_count": 5,
   "metadata": {},
   "outputs": [
    {
     "data": {
      "text/plain": [
       "array([[1, 1, 1, 1, 1, 0, 0, 0, 0, 0],\n",
       "       [0, 0, 1, 1, 1, 0, 0, 0, 0, 0],\n",
       "       [1, 0, 1, 0, 1, 0, 0, 0, 0, 0],\n",
       "       [0, 1, 1, 1, 1, 0, 0, 0, 0, 0],\n",
       "       [0, 1, 0, 1, 1, 0, 0, 0, 0, 0],\n",
       "       [0, 0, 0, 0, 0, 0, 1, 0, 1, 1],\n",
       "       [0, 0, 0, 0, 0, 0, 1, 0, 0, 0],\n",
       "       [0, 0, 0, 0, 0, 1, 0, 1, 1, 0],\n",
       "       [0, 0, 0, 0, 0, 0, 0, 1, 0, 0],\n",
       "       [0, 0, 0, 0, 0, 0, 0, 0, 1, 0]])"
      ]
     },
     "execution_count": 5,
     "metadata": {},
     "output_type": "execute_result"
    }
   ],
   "source": [
    "getMatrix(iso1)"
   ]
  },
  {
   "cell_type": "code",
   "execution_count": 6,
   "metadata": {},
   "outputs": [],
   "source": [
    "mat2 = getMatrix(iso2)"
   ]
  },
  {
   "cell_type": "code",
   "execution_count": 7,
   "metadata": {},
   "outputs": [],
   "source": [
    "mat1 = getMatrix(iso1)"
   ]
  },
  {
   "cell_type": "code",
   "execution_count": 8,
   "metadata": {},
   "outputs": [],
   "source": [
    "iso3 = \"[ f2, f1*f2, f3*f4, f3, f1*f2*f4*f5, f6*f10, f6*f7, f6*f8*f10, f6*f9*f10, f6 ]\"\n",
    "iso4 = \"[ f1*f2*f4, f1*f5, f2*f3, f5, f4*f5, f6*f8, f7, f8*f9, f8, f10 ]\""
   ]
  },
  {
   "cell_type": "code",
   "execution_count": 9,
   "metadata": {},
   "outputs": [],
   "source": [
    "mat3 = getMatrix(iso3) \n",
    "mat4 = getMatrix(iso4) "
   ]
  },
  {
   "cell_type": "code",
   "execution_count": 20,
   "metadata": {},
   "outputs": [
    {
     "name": "stdout",
     "output_type": "stream",
     "text": [
      "[[1 1 1 1 1 0 0 0 0 0]\n",
      " [0 0 1 1 1 0 0 0 0 0]\n",
      " [1 0 1 0 1 0 0 0 0 0]\n",
      " [0 1 1 1 1 0 0 0 0 0]\n",
      " [0 1 0 1 1 0 0 0 0 0]\n",
      " [0 0 0 0 0 0 1 0 1 1]\n",
      " [0 0 0 0 0 0 1 0 0 0]\n",
      " [0 0 0 0 0 1 0 1 1 0]\n",
      " [0 0 0 0 0 0 0 1 0 0]\n",
      " [0 0 0 0 0 0 0 0 1 0]]\n"
     ]
    }
   ],
   "source": [
    "print(mat1)"
   ]
  },
  {
   "cell_type": "code",
   "execution_count": 11,
   "metadata": {},
   "outputs": [
    {
     "data": {
      "text/plain": [
       "array([[0, 1, 0, 0, 1, 0, 0, 0, 0, 0],\n",
       "       [1, 1, 0, 0, 1, 0, 0, 0, 0, 0],\n",
       "       [0, 0, 1, 1, 0, 0, 0, 0, 0, 0],\n",
       "       [0, 0, 1, 0, 1, 0, 0, 0, 0, 0],\n",
       "       [0, 0, 0, 0, 1, 0, 0, 0, 0, 0],\n",
       "       [0, 0, 0, 0, 0, 1, 1, 1, 1, 1],\n",
       "       [0, 0, 0, 0, 0, 0, 1, 0, 0, 0],\n",
       "       [0, 0, 0, 0, 0, 0, 0, 1, 0, 0],\n",
       "       [0, 0, 0, 0, 0, 0, 0, 0, 1, 0],\n",
       "       [0, 0, 0, 0, 0, 1, 0, 1, 1, 0]])"
      ]
     },
     "execution_count": 11,
     "metadata": {},
     "output_type": "execute_result"
    }
   ],
   "source": [
    "mat3"
   ]
  },
  {
   "cell_type": "code",
   "execution_count": 12,
   "metadata": {},
   "outputs": [
    {
     "data": {
      "text/plain": [
       "array([[1, 1, 0, 0, 0, 0, 0, 0, 0, 0],\n",
       "       [1, 0, 1, 0, 0, 0, 0, 0, 0, 0],\n",
       "       [0, 0, 1, 0, 0, 0, 0, 0, 0, 0],\n",
       "       [1, 0, 0, 0, 1, 0, 0, 0, 0, 0],\n",
       "       [0, 1, 0, 1, 1, 0, 0, 0, 0, 0],\n",
       "       [0, 0, 0, 0, 0, 1, 0, 0, 0, 0],\n",
       "       [0, 0, 0, 0, 0, 0, 1, 0, 0, 0],\n",
       "       [0, 0, 0, 0, 0, 1, 0, 1, 1, 0],\n",
       "       [0, 0, 0, 0, 0, 0, 0, 1, 0, 0],\n",
       "       [0, 0, 0, 0, 0, 0, 0, 0, 0, 1]])"
      ]
     },
     "execution_count": 12,
     "metadata": {},
     "output_type": "execute_result"
    }
   ],
   "source": [
    "mat4"
   ]
  },
  {
   "cell_type": "code",
   "execution_count": 19,
   "metadata": {},
   "outputs": [
    {
     "name": "stdout",
     "output_type": "stream",
     "text": [
      "[[1 1 1 1 1]\n",
      " [0 0 1 1 1]\n",
      " [1 0 1 0 1]\n",
      " [0 1 1 1 1]\n",
      " [0 1 0 1 1]]\n",
      "\n",
      "[[0 1 0 1 1]\n",
      " [0 1 0 0 0]\n",
      " [1 0 1 1 0]\n",
      " [0 0 1 0 0]\n",
      " [0 0 0 1 0]]\n"
     ]
    }
   ],
   "source": [
    "print(mat1[0:5,0:5])\n",
    "print()\n",
    "print(mat1[5:10,5:10])"
   ]
  },
  {
   "cell_type": "code",
   "execution_count": 13,
   "metadata": {},
   "outputs": [
    {
     "data": {
      "text/plain": [
       "True"
      ]
     },
     "execution_count": 13,
     "metadata": {},
     "output_type": "execute_result"
    }
   ],
   "source": [
    "((np.matmul(mat3, mat4) % 2) == mat1).all()"
   ]
  },
  {
   "cell_type": "code",
   "execution_count": 17,
   "metadata": {},
   "outputs": [],
   "source": [
    "from numpy import linalg as LA\n",
    "\n",
    "eigenvalues, eigenvectors = LA.eig(mat2)"
   ]
  },
  {
   "cell_type": "code",
   "execution_count": 18,
   "metadata": {},
   "outputs": [
    {
     "data": {
      "text/plain": [
       "array([ 1.        +0.00000000e+00j,  1.61803399+0.00000000e+00j,\n",
       "        1.61803399+0.00000000e+00j, -0.61803399+9.17439958e-09j,\n",
       "       -0.61803399-9.17439958e-09j, -0.5       +8.66025404e-01j,\n",
       "       -0.5       -8.66025404e-01j,  1.        +0.00000000e+00j,\n",
       "        1.        +0.00000000e+00j,  1.        +0.00000000e+00j])"
      ]
     },
     "execution_count": 18,
     "metadata": {},
     "output_type": "execute_result"
    }
   ],
   "source": [
    "eigenvalues"
   ]
  },
  {
   "cell_type": "code",
   "execution_count": 25,
   "metadata": {},
   "outputs": [],
   "source": [
    "gapRep = \"[\"\n",
    "for row in mat2:\n",
    "    gapRep += \"\\n [\"\n",
    "    for entry in row:\n",
    "        if entry == 0: gapRep += \"0 * Z(2), \"\n",
    "        elif entry == 1: gapRep += \"Z(2), \"\n",
    "    \n",
    "    gapRep += ']'\n",
    "\n",
    "gapRep += \"\\n]\""
   ]
  },
  {
   "cell_type": "code",
   "execution_count": 26,
   "metadata": {},
   "outputs": [
    {
     "name": "stdout",
     "output_type": "stream",
     "text": [
      "[\n",
      " [0 * Z(2), Z(2), 0 * Z(2), 0 * Z(2), Z(2), 0 * Z(2), 0 * Z(2), 0 * Z(2), 0 * Z(2), 0 * Z(2), ]\n",
      " [Z(2), Z(2), 0 * Z(2), 0 * Z(2), Z(2), 0 * Z(2), 0 * Z(2), 0 * Z(2), 0 * Z(2), 0 * Z(2), ]\n",
      " [0 * Z(2), Z(2), 0 * Z(2), Z(2), Z(2), 0 * Z(2), 0 * Z(2), 0 * Z(2), 0 * Z(2), 0 * Z(2), ]\n",
      " [Z(2), 0 * Z(2), Z(2), Z(2), 0 * Z(2), 0 * Z(2), 0 * Z(2), 0 * Z(2), 0 * Z(2), 0 * Z(2), ]\n",
      " [0 * Z(2), 0 * Z(2), 0 * Z(2), 0 * Z(2), Z(2), 0 * Z(2), 0 * Z(2), 0 * Z(2), 0 * Z(2), 0 * Z(2), ]\n",
      " [0 * Z(2), 0 * Z(2), 0 * Z(2), 0 * Z(2), 0 * Z(2), Z(2), Z(2), 0 * Z(2), Z(2), 0 * Z(2), ]\n",
      " [0 * Z(2), 0 * Z(2), 0 * Z(2), 0 * Z(2), 0 * Z(2), 0 * Z(2), 0 * Z(2), 0 * Z(2), Z(2), 0 * Z(2), ]\n",
      " [0 * Z(2), 0 * Z(2), 0 * Z(2), 0 * Z(2), 0 * Z(2), 0 * Z(2), Z(2), 0 * Z(2), 0 * Z(2), 0 * Z(2), ]\n",
      " [0 * Z(2), 0 * Z(2), 0 * Z(2), 0 * Z(2), 0 * Z(2), 0 * Z(2), 0 * Z(2), Z(2), 0 * Z(2), 0 * Z(2), ]\n",
      " [0 * Z(2), 0 * Z(2), 0 * Z(2), 0 * Z(2), 0 * Z(2), 0 * Z(2), 0 * Z(2), 0 * Z(2), 0 * Z(2), Z(2), ]\n",
      "]\n"
     ]
    }
   ],
   "source": [
    "print(gapRep)"
   ]
  },
  {
   "cell_type": "code",
   "execution_count": 12,
   "metadata": {},
   "outputs": [],
   "source": [
    "def getGapRep(mat):\n",
    "    gapRep = \"[\"\n",
    "    for row in mat:\n",
    "        gapRep += \"\\n [\"\n",
    "        for entry in row:\n",
    "            if entry == 0: gapRep += \"0 * Z(2), \"\n",
    "            elif entry == 1: gapRep += \"    Z(2), \"\n",
    "        \n",
    "        gapRep += '],'\n",
    "\n",
    "    gapRep += \"\\n]\"\n",
    "\n",
    "    return gapRep\n"
   ]
  },
  {
   "cell_type": "code",
   "execution_count": 13,
   "metadata": {},
   "outputs": [
    {
     "name": "stdout",
     "output_type": "stream",
     "text": [
      "[\n",
      " [    Z(2),     Z(2),     Z(2),     Z(2),     Z(2), 0 * Z(2), 0 * Z(2), 0 * Z(2), 0 * Z(2), 0 * Z(2), ],\n",
      " [0 * Z(2), 0 * Z(2),     Z(2),     Z(2),     Z(2), 0 * Z(2), 0 * Z(2), 0 * Z(2), 0 * Z(2), 0 * Z(2), ],\n",
      " [    Z(2), 0 * Z(2),     Z(2), 0 * Z(2),     Z(2), 0 * Z(2), 0 * Z(2), 0 * Z(2), 0 * Z(2), 0 * Z(2), ],\n",
      " [0 * Z(2),     Z(2),     Z(2),     Z(2),     Z(2), 0 * Z(2), 0 * Z(2), 0 * Z(2), 0 * Z(2), 0 * Z(2), ],\n",
      " [0 * Z(2),     Z(2), 0 * Z(2),     Z(2),     Z(2), 0 * Z(2), 0 * Z(2), 0 * Z(2), 0 * Z(2), 0 * Z(2), ],\n",
      " [0 * Z(2), 0 * Z(2), 0 * Z(2), 0 * Z(2), 0 * Z(2), 0 * Z(2),     Z(2), 0 * Z(2),     Z(2),     Z(2), ],\n",
      " [0 * Z(2), 0 * Z(2), 0 * Z(2), 0 * Z(2), 0 * Z(2), 0 * Z(2),     Z(2), 0 * Z(2), 0 * Z(2), 0 * Z(2), ],\n",
      " [0 * Z(2), 0 * Z(2), 0 * Z(2), 0 * Z(2), 0 * Z(2),     Z(2), 0 * Z(2),     Z(2),     Z(2), 0 * Z(2), ],\n",
      " [0 * Z(2), 0 * Z(2), 0 * Z(2), 0 * Z(2), 0 * Z(2), 0 * Z(2), 0 * Z(2),     Z(2), 0 * Z(2), 0 * Z(2), ],\n",
      " [0 * Z(2), 0 * Z(2), 0 * Z(2), 0 * Z(2), 0 * Z(2), 0 * Z(2), 0 * Z(2), 0 * Z(2),     Z(2), 0 * Z(2), ],\n",
      "]\n"
     ]
    }
   ],
   "source": [
    "print(getGapRep(mat1))"
   ]
  },
  {
   "cell_type": "code",
   "execution_count": 33,
   "metadata": {},
   "outputs": [
    {
     "name": "stdout",
     "output_type": "stream",
     "text": [
      "[\n",
      " [0 * Z(2), Z(2), 0 * Z(2), 0 * Z(2), Z(2), 0 * Z(2), 0 * Z(2), 0 * Z(2), 0 * Z(2), 0 * Z(2), ],\n",
      " [Z(2), Z(2), 0 * Z(2), 0 * Z(2), Z(2), 0 * Z(2), 0 * Z(2), 0 * Z(2), 0 * Z(2), 0 * Z(2), ],\n",
      " [0 * Z(2), Z(2), 0 * Z(2), Z(2), Z(2), 0 * Z(2), 0 * Z(2), 0 * Z(2), 0 * Z(2), 0 * Z(2), ],\n",
      " [Z(2), 0 * Z(2), Z(2), Z(2), 0 * Z(2), 0 * Z(2), 0 * Z(2), 0 * Z(2), 0 * Z(2), 0 * Z(2), ],\n",
      " [0 * Z(2), 0 * Z(2), 0 * Z(2), 0 * Z(2), Z(2), 0 * Z(2), 0 * Z(2), 0 * Z(2), 0 * Z(2), 0 * Z(2), ],\n",
      " [0 * Z(2), 0 * Z(2), 0 * Z(2), 0 * Z(2), 0 * Z(2), Z(2), Z(2), 0 * Z(2), Z(2), 0 * Z(2), ],\n",
      " [0 * Z(2), 0 * Z(2), 0 * Z(2), 0 * Z(2), 0 * Z(2), 0 * Z(2), 0 * Z(2), 0 * Z(2), Z(2), 0 * Z(2), ],\n",
      " [0 * Z(2), 0 * Z(2), 0 * Z(2), 0 * Z(2), 0 * Z(2), 0 * Z(2), Z(2), 0 * Z(2), 0 * Z(2), 0 * Z(2), ],\n",
      " [0 * Z(2), 0 * Z(2), 0 * Z(2), 0 * Z(2), 0 * Z(2), 0 * Z(2), 0 * Z(2), Z(2), 0 * Z(2), 0 * Z(2), ],\n",
      " [0 * Z(2), 0 * Z(2), 0 * Z(2), 0 * Z(2), 0 * Z(2), 0 * Z(2), 0 * Z(2), 0 * Z(2), 0 * Z(2), Z(2), ],\n",
      "]\n"
     ]
    }
   ],
   "source": [
    "print(getGapRep(mat2))"
   ]
  },
  {
   "cell_type": "code",
   "execution_count": 36,
   "metadata": {},
   "outputs": [],
   "source": [
    "eig1 = np.array([ 1, 1, 0, 0, 0, 0, 0, 0, 0, 0]).T"
   ]
  },
  {
   "cell_type": "code",
   "execution_count": 39,
   "metadata": {},
   "outputs": [
    {
     "data": {
      "text/plain": [
       "array([0, 0, 1, 1, 1, 0, 0, 0, 0, 0])"
      ]
     },
     "execution_count": 39,
     "metadata": {},
     "output_type": "execute_result"
    }
   ],
   "source": [
    "np.dot(mat1, eig1) % 2"
   ]
  },
  {
   "cell_type": "code",
   "execution_count": 32,
   "metadata": {},
   "outputs": [],
   "source": [
    "def getLaTeXRep(mat):\n",
    "    latexRep = \"\\\\begin{bmatrix}\\n\"\n",
    "    for row in mat:\n",
    "        latexRep += \"\\t\"\n",
    "        for entry in row:\n",
    "            latexRep += str(entry) + \" & \"\n",
    "        \n",
    "        latexRep = latexRep[:-3]\n",
    "        latexRep += ' \\\\\\\\ \\n'\n",
    "\n",
    "    latexRep += \"\\\\end{bmatrix}\"\n",
    "\n",
    "    return latexRep\n"
   ]
  },
  {
   "cell_type": "code",
   "execution_count": 33,
   "metadata": {},
   "outputs": [
    {
     "name": "stdout",
     "output_type": "stream",
     "text": [
      "\\begin{bmatrix}\n",
      "\t1 & 1 & 1 & 1 & 1 & 0 & 0 & 0 & 0 & 0 \\\\ \n",
      "\t0 & 0 & 1 & 1 & 1 & 0 & 0 & 0 & 0 & 0 \\\\ \n",
      "\t1 & 0 & 1 & 0 & 1 & 0 & 0 & 0 & 0 & 0 \\\\ \n",
      "\t0 & 1 & 1 & 1 & 1 & 0 & 0 & 0 & 0 & 0 \\\\ \n",
      "\t0 & 1 & 0 & 1 & 1 & 0 & 0 & 0 & 0 & 0 \\\\ \n",
      "\t0 & 0 & 0 & 0 & 0 & 0 & 1 & 0 & 1 & 1 \\\\ \n",
      "\t0 & 0 & 0 & 0 & 0 & 0 & 1 & 0 & 0 & 0 \\\\ \n",
      "\t0 & 0 & 0 & 0 & 0 & 1 & 0 & 1 & 1 & 0 \\\\ \n",
      "\t0 & 0 & 0 & 0 & 0 & 0 & 0 & 1 & 0 & 0 \\\\ \n",
      "\t0 & 0 & 0 & 0 & 0 & 0 & 0 & 0 & 1 & 0 \\\\ \n",
      "\\end{bmatrix}\n"
     ]
    }
   ],
   "source": [
    "print(getLaTeXRep(mat1))"
   ]
  },
  {
   "cell_type": "code",
   "execution_count": 34,
   "metadata": {},
   "outputs": [
    {
     "name": "stdout",
     "output_type": "stream",
     "text": [
      "\\begin{bmatrix}\n",
      "\t0 & 1 & 0 & 0 & 1 & 0 & 0 & 0 & 0 & 0 \\\\ \n",
      "\t1 & 1 & 0 & 0 & 1 & 0 & 0 & 0 & 0 & 0 \\\\ \n",
      "\t0 & 1 & 0 & 1 & 1 & 0 & 0 & 0 & 0 & 0 \\\\ \n",
      "\t1 & 0 & 1 & 1 & 0 & 0 & 0 & 0 & 0 & 0 \\\\ \n",
      "\t0 & 0 & 0 & 0 & 1 & 0 & 0 & 0 & 0 & 0 \\\\ \n",
      "\t0 & 0 & 0 & 0 & 0 & 1 & 1 & 0 & 1 & 0 \\\\ \n",
      "\t0 & 0 & 0 & 0 & 0 & 0 & 0 & 0 & 1 & 0 \\\\ \n",
      "\t0 & 0 & 0 & 0 & 0 & 0 & 1 & 0 & 0 & 0 \\\\ \n",
      "\t0 & 0 & 0 & 0 & 0 & 0 & 0 & 1 & 0 & 0 \\\\ \n",
      "\t0 & 0 & 0 & 0 & 0 & 0 & 0 & 0 & 0 & 1 \\\\ \n",
      "\\end{bmatrix}\n"
     ]
    }
   ],
   "source": [
    "print(getLaTeXRep(mat2))"
   ]
  },
  {
   "cell_type": "code",
   "execution_count": 36,
   "metadata": {},
   "outputs": [
    {
     "data": {
      "text/plain": [
       "1.0"
      ]
     },
     "execution_count": 36,
     "metadata": {},
     "output_type": "execute_result"
    }
   ],
   "source": [
    "np.linalg.det(mat2)"
   ]
  },
  {
   "cell_type": "code",
   "execution_count": null,
   "metadata": {},
   "outputs": [],
   "source": []
  }
 ],
 "metadata": {
  "kernelspec": {
   "display_name": "Python 3",
   "language": "python",
   "name": "python3"
  },
  "language_info": {
   "codemirror_mode": {
    "name": "ipython",
    "version": 3
   },
   "file_extension": ".py",
   "mimetype": "text/x-python",
   "name": "python",
   "nbconvert_exporter": "python",
   "pygments_lexer": "ipython3",
   "version": "3.undefined.undefined"
  }
 },
 "nbformat": 4,
 "nbformat_minor": 2
}
