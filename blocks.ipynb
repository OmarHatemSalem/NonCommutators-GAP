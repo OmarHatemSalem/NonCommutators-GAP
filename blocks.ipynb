{
 "cells": [
  {
   "cell_type": "code",
   "execution_count": 8,
   "metadata": {},
   "outputs": [
    {
     "name": "stdout",
     "output_type": "stream",
     "text": [
      " 1 1 1 1 1\n",
      " . . 1 1 1\n",
      " 1 . 1 . 1\n",
      " . 1 1 1 1\n",
      " . 1 . 1 1\n",
      " . 1 . 1 1\n",
      " . 1 . . .\n",
      " 1 . 1 1 .\n",
      " . . 1 . .\n",
      " . . . 1 .\n",
      " . 1 . . 1\n",
      " 1 1 . . 1\n",
      " . 1 . 1 1\n",
      " 1 . 1 1 .\n",
      " . . . . 1\n",
      " 1 1 . 1 .\n",
      " . . . 1 .\n",
      " . 1 . . .\n",
      " . . 1 . .\n",
      " . . . . 1\n"
     ]
    },
    {
     "data": {
      "text/plain": [
       "[ [ Z(2)^0, Z(2)^0, Z(2)^0, Z(2)^0, Z(2)^0 ],   [ 0*Z(2), 0*Z(2), Z(2)^0, Z(2)^0, Z(2)^0 ],   [ Z(2)^0, 0*Z(2), Z(2)^0, 0*Z(2), Z(2)^0 ],   [ 0*Z(2), Z(2)^0, Z(2)^0, Z(2)^0, Z(2)^0 ],   [ 0*Z(2), Z(2)^0, 0*Z(2), Z(2)^0, Z(2)^0 ] ]"
      ]
     },
     "execution_count": 1,
     "metadata": {
      "text/plain": ""
     },
     "output_type": "execute_result"
    },
    {
     "data": {
      "text/plain": [
       "[ [ 0*Z(2), Z(2)^0, 0*Z(2), Z(2)^0, Z(2)^0 ],   [ 0*Z(2), Z(2)^0, 0*Z(2), 0*Z(2), 0*Z(2) ],   [ Z(2)^0, 0*Z(2), Z(2)^0, Z(2)^0, 0*Z(2) ],   [ 0*Z(2), 0*Z(2), Z(2)^0, 0*Z(2), 0*Z(2) ],   [ 0*Z(2), 0*Z(2), 0*Z(2), Z(2)^0, 0*Z(2) ] ]"
      ]
     },
     "execution_count": 3,
     "metadata": {
      "text/plain": ""
     },
     "output_type": "execute_result"
    },
    {
     "data": {
      "text/plain": [
       "[ [ 0*Z(2), Z(2)^0, 0*Z(2), 0*Z(2), Z(2)^0 ],   [ Z(2)^0, Z(2)^0, 0*Z(2), 0*Z(2), Z(2)^0 ],   [ 0*Z(2), Z(2)^0, 0*Z(2), Z(2)^0, Z(2)^0 ],   [ Z(2)^0, 0*Z(2), Z(2)^0, Z(2)^0, 0*Z(2) ],   [ 0*Z(2), 0*Z(2), 0*Z(2), 0*Z(2), Z(2)^0 ] ]"
      ]
     },
     "execution_count": 5,
     "metadata": {
      "text/plain": ""
     },
     "output_type": "execute_result"
    },
    {
     "data": {
      "text/plain": [
       "[ [ Z(2)^0, Z(2)^0, 0*Z(2), Z(2)^0, 0*Z(2) ],   [ 0*Z(2), 0*Z(2), 0*Z(2), Z(2)^0, 0*Z(2) ],   [ 0*Z(2), Z(2)^0, 0*Z(2), 0*Z(2), 0*Z(2) ],   [ 0*Z(2), 0*Z(2), Z(2)^0, 0*Z(2), 0*Z(2) ],   [ 0*Z(2), 0*Z(2), 0*Z(2), 0*Z(2), Z(2)^0 ] ]"
      ]
     },
     "execution_count": 7,
     "metadata": {
      "text/plain": ""
     },
     "output_type": "execute_result"
    }
   ],
   "source": [
    "m_sigma_1 := [[1, 1, 1, 1, 1],\n",
    "              [0, 0, 1, 1, 1],\n",
    "              [1, 0, 1, 0, 1],\n",
    "              [0, 1, 1, 1, 1],\n",
    "              [0, 1, 0, 1, 1]] * Z(2)^0;\n",
    "\n",
    "\n",
    "Display(m_sigma_1);\n",
    "\n",
    "m_sigma_2 := [[0, 1, 0, 1, 1],\n",
    "              [0, 1, 0, 0, 0],\n",
    "              [1, 0, 1, 1, 0],\n",
    "              [0, 0, 1, 0, 0],\n",
    "              [0, 0, 0, 1, 0]] * Z(2)^0;\n",
    "\n",
    "Display(m_sigma_2);\n",
    "\n",
    "m_eta_1 := [[0, 1, 0, 0, 1],\n",
    "            [1, 1, 0, 0, 1],\n",
    "            [0, 1, 0, 1, 1],\n",
    "            [1, 0, 1, 1, 0],\n",
    "            [0, 0, 0, 0, 1]]* Z(2)^0;\n",
    "\n",
    "Display(m_eta_1);\n",
    "\n",
    "m_eta_2 := [[1, 1, 0, 1, 0],\n",
    "            [0, 0, 0, 1, 0],\n",
    "            [0, 1, 0, 0, 0],\n",
    "            [0, 0, 1, 0, 0],\n",
    "            [0, 0, 0, 0, 1]] * Z(2)^0;\n",
    "\n",
    "Display(m_eta_2);"
   ]
  },
  {
   "cell_type": "code",
   "execution_count": 12,
   "metadata": {},
   "outputs": [
    {
     "data": {
      "text/plain": [
       "[ [ Z(2)^0, 0*Z(2), 0*Z(2), Z(2)^0, 0*Z(2) ],   [ 0*Z(2), Z(2)^0, 0*Z(2), Z(2)^0, 0*Z(2) ],   [ 0*Z(2), 0*Z(2), 0*Z(2), Z(2)^0, Z(2)^0 ],   [ Z(2)^0, Z(2)^0, Z(2)^0, Z(2)^0, 0*Z(2) ],   [ Z(2)^0, 0*Z(2), Z(2)^0, 0*Z(2), Z(2)^0 ] ]"
      ]
     },
     "execution_count": 9,
     "metadata": {
      "text/plain": ""
     },
     "output_type": "execute_result"
    },
    {
     "data": {
      "text/plain": [
       "[ [ Z(2)^0, Z(2)^0, 0*Z(2), 0*Z(2), 0*Z(2) ],   [ Z(2)^0, 0*Z(2), 0*Z(2), 0*Z(2), Z(2)^0 ],   [ 0*Z(2), Z(2)^0, Z(2)^0, Z(2)^0, 0*Z(2) ],   [ Z(2)^0, 0*Z(2), Z(2)^0, 0*Z(2), 0*Z(2) ],   [ 0*Z(2), 0*Z(2), 0*Z(2), 0*Z(2), Z(2)^0 ] ]"
      ]
     },
     "execution_count": 10,
     "metadata": {
      "text/plain": ""
     },
     "output_type": "execute_result"
    },
    {
     "data": {
      "text/plain": [
       "[ [ 0*Z(2), 0*Z(2), Z(2)^0, Z(2)^0, Z(2)^0 ],   [ 0*Z(2), Z(2)^0, 0*Z(2), 0*Z(2), 0*Z(2) ],   [ 0*Z(2), 0*Z(2), 0*Z(2), Z(2)^0, 0*Z(2) ],   [ 0*Z(2), 0*Z(2), 0*Z(2), 0*Z(2), Z(2)^0 ],   [ Z(2)^0, Z(2)^0, 0*Z(2), 0*Z(2), Z(2)^0 ] ]"
      ]
     },
     "execution_count": 11,
     "metadata": {
      "text/plain": ""
     },
     "output_type": "execute_result"
    },
    {
     "data": {
      "text/plain": [
       "[ [ Z(2)^0, Z(2)^0, Z(2)^0, 0*Z(2), 0*Z(2) ],   [ 0*Z(2), 0*Z(2), Z(2)^0, 0*Z(2), 0*Z(2) ],   [ 0*Z(2), 0*Z(2), 0*Z(2), Z(2)^0, 0*Z(2) ],   [ 0*Z(2), Z(2)^0, 0*Z(2), 0*Z(2), 0*Z(2) ],   [ 0*Z(2), 0*Z(2), 0*Z(2), 0*Z(2), Z(2)^0 ] ]"
      ]
     },
     "execution_count": 12,
     "metadata": {
      "text/plain": ""
     },
     "output_type": "execute_result"
    }
   ],
   "source": [
    "m_sigma_inv_1 := m_sigma_1^-1;\n",
    "m_eta_inv_1 := m_eta_1^-1;\n",
    "\n",
    "m_sigma_inv_2 := m_sigma_2^-1;\n",
    "m_eta_inv_2 := m_eta_2^-1;"
   ]
  },
  {
   "cell_type": "code",
   "execution_count": 14,
   "metadata": {},
   "outputs": [
    {
     "data": {
      "text/plain": [
       "<matrix group with 2 generators>"
      ]
     },
     "execution_count": 13,
     "metadata": {
      "text/plain": ""
     },
     "output_type": "execute_result"
    },
    {
     "data": {
      "text/plain": [
       "<matrix group with 2 generators>"
      ]
     },
     "execution_count": 14,
     "metadata": {
      "text/plain": ""
     },
     "output_type": "execute_result"
    }
   ],
   "source": [
    "mA_1 := Group(m_sigma_inv_1, m_eta_inv_1);\n",
    "mA_2 := Group(m_sigma_inv_2, m_eta_inv_2);"
   ]
  },
  {
   "cell_type": "code",
   "execution_count": 15,
   "metadata": {},
   "outputs": [
    {
     "data": {
      "text/plain": [
       "360"
      ]
     },
     "execution_count": 15,
     "metadata": {
      "text/plain": ""
     },
     "output_type": "execute_result"
    }
   ],
   "source": [
    "Size(mA_1);"
   ]
  },
  {
   "cell_type": "code",
   "execution_count": 16,
   "metadata": {},
   "outputs": [
    {
     "data": {
      "text/plain": [
       "CompositionMapping( [ (3,9)(4,10)(5,23)(6,24)(7,31)(8,32)(13,21)(14,22)(15,29)(16,30)(17,27)(18,    28), (2,9,26,3,5)(4,13,25,11,30)(6,10,18,28,7)(8,14,17,20,32)(12,22,27,15,    29)(16,21,19,24,31) ] -> [ <an immutable 5x5 matrix over GF2>,   <an immutable 5x5 matrix over GF2> ], <action isomorphism> )"
      ]
     },
     "execution_count": 16,
     "metadata": {
      "text/plain": ""
     },
     "output_type": "execute_result"
    }
   ],
   "source": [
    "IsomorphismGroups(mA_2, mA_1);"
   ]
  },
  {
   "cell_type": "code",
   "execution_count": 18,
   "metadata": {},
   "outputs": [
    {
     "data": {
      "text/plain": [
       "( GF(2)^5 )"
      ]
     },
     "execution_count": 17,
     "metadata": {
      "text/plain": ""
     },
     "output_type": "execute_result"
    },
    {
     "data": {
      "text/plain": [
       "true"
      ]
     },
     "execution_count": 18,
     "metadata": {
      "text/plain": ""
     },
     "output_type": "execute_result"
    }
   ],
   "source": [
    "A := Field(Z(2)) ^ 5;\n",
    "IsAdditiveGroup(A);"
   ]
  },
  {
   "cell_type": "code",
   "execution_count": 20,
   "metadata": {},
   "outputs": [
    {
     "data": {
      "text/plain": [
       "<a GF2 vector of length 5>"
      ]
     },
     "execution_count": 19,
     "metadata": {
      "text/plain": ""
     },
     "output_type": "execute_result"
    },
    {
     "data": {
      "text/plain": [
       "[ 0*Z(2), Z(2)^0, Z(2)^0, Z(2)^0, Z(2)^0 ]"
      ]
     },
     "execution_count": 20,
     "metadata": {
      "text/plain": ""
     },
     "output_type": "execute_result"
    }
   ],
   "source": [
    "a := Random(A);\n",
    "OnRight(a, m_sigma_inv_1);"
   ]
  },
  {
   "cell_type": "code",
   "execution_count": 22,
   "metadata": {},
   "outputs": [
    {
     "data": {
      "text/plain": [
       "[ [ <an immutable GF2 vector of length 5> ],   [ <an immutable GF2 vector of length 5>, <an immutable GF2 vector of length         5>, <an immutable GF2 vector of length 5>,       <an immutable GF2 vector of length 5>,       <an immutable GF2 vector of length 5>,       <an immutable GF2 vector of length 5>,       <an immutable GF2 vector of length 5>,       <an immutable GF2 vector of length 5>,       <an immutable GF2 vector of length 5>,       <an immutable GF2 vector of length 5> ],   [ <an immutable GF2 vector of length 5>, <an immutable GF2 vector of length         5>, <an immutable GF2 vector of length 5>,       <an immutable GF2 vector of length 5>,       <an immutable GF2 vector of length 5>,       <an immutable GF2 vector of length 5>,       <an immutable GF2 vector of length 5>,       <an immutable GF2 vector of length 5>,       <an immutable GF2 vector of length 5>,       <an immutable GF2 vector of length 5>,       <an immutable GF2 vector of length 5>,       <an immutable GF2 vector of length 5>,       <an immutable GF2 vector of length 5>,       <an immutable GF2 vector of length 5>,       <an immutable GF2 vector of length 5> ],   [ <an immutable GF2 vector of length 5>, <an immutable GF2 vector of length         5>, <an immutable GF2 vector of length 5>,       <an immutable GF2 vector of length 5>,       <an immutable GF2 vector of length 5>,       <an immutable GF2 vector of length 5> ] ]"
      ]
     },
     "execution_count": 21,
     "metadata": {
      "text/plain": ""
     },
     "output_type": "execute_result"
    },
    {
     "data": {
      "text/plain": [
       "[ [ <an immutable GF2 vector of length 5> ],   [ <an immutable GF2 vector of length 5>, <an immutable GF2 vector of length         5>, <an immutable GF2 vector of length 5>,       <an immutable GF2 vector of length 5>,       <an immutable GF2 vector of length 5>,       <an immutable GF2 vector of length 5> ],   [ <an immutable GF2 vector of length 5>, <an immutable GF2 vector of length         5>, <an immutable GF2 vector of length 5>,       <an immutable GF2 vector of length 5>,       <an immutable GF2 vector of length 5>,       <an immutable GF2 vector of length 5>,       <an immutable GF2 vector of length 5>,       <an immutable GF2 vector of length 5>,       <an immutable GF2 vector of length 5>,       <an immutable GF2 vector of length 5>,       <an immutable GF2 vector of length 5>,       <an immutable GF2 vector of length 5>,       <an immutable GF2 vector of length 5>,       <an immutable GF2 vector of length 5>,       <an immutable GF2 vector of length 5> ],   [ <an immutable GF2 vector of length 5>, <an immutable GF2 vector of length         5>, <an immutable GF2 vector of length 5>,       <an immutable GF2 vector of length 5>,       <an immutable GF2 vector of length 5>,       <an immutable GF2 vector of length 5>,       <an immutable GF2 vector of length 5>,       <an immutable GF2 vector of length 5>,       <an immutable GF2 vector of length 5>,       <an immutable GF2 vector of length 5> ] ]"
      ]
     },
     "execution_count": 22,
     "metadata": {
      "text/plain": ""
     },
     "output_type": "execute_result"
    }
   ],
   "source": [
    "orbs_1 := Orbits(mA_1, A, OnRight);\n",
    "orbs_2 := Orbits(mA_2, A, OnRight);"
   ]
  },
  {
   "cell_type": "code",
   "execution_count": 24,
   "metadata": {},
   "outputs": [
    {
     "name": "stdout",
     "output_type": "stream",
     "text": [
      "4\n",
      "4\n"
     ]
    }
   ],
   "source": [
    "Print(Size(orbs_1), \"\\n\");\n",
    "Print(Size(orbs_2), \"\\n\");"
   ]
  },
  {
   "cell_type": "code",
   "execution_count": 25,
   "metadata": {},
   "outputs": [
    {
     "name": "stdout",
     "output_type": "stream",
     "text": [
      "\n",
      "1\n",
      " . . . . .\n",
      "\n",
      "10\n",
      " . . . . 1\n",
      " 1 . 1 . 1\n",
      " . . 1 . .\n",
      " 1 . 1 1 1\n",
      " . . . 1 1\n",
      " . 1 1 1 .\n",
      " 1 1 . 1 .\n",
      " . 1 . 1 1\n",
      " . . 1 1 .\n",
      " 1 1 1 . 1\n",
      "\n",
      "15\n",
      " . . . 1 .\n",
      " 1 1 1 1 .\n",
      " 1 . 1 . .\n",
      " . . 1 . 1\n",
      " 1 . . 1 1\n",
      " 1 . . . 1\n",
      " 1 . 1 1 .\n",
      " . 1 1 1 1\n",
      " 1 1 . . 1\n",
      " . 1 1 . 1\n",
      " . . 1 1 1\n",
      " . 1 . 1 .\n",
      " . 1 . . .\n",
      " 1 1 1 . .\n",
      " 1 1 . 1 1\n",
      "\n",
      "6\n",
      " . 1 . . 1\n",
      " 1 1 1 1 1\n",
      " 1 . . . .\n",
      " 1 . . 1 .\n",
      " 1 1 . . .\n",
      " . 1 1 . .\n"
     ]
    }
   ],
   "source": [
    "for o in orbs_1 do\n",
    "    Print(\"\\n\", Size(o), \"\\n\");\n",
    "    Display(o);\n",
    "od;"
   ]
  },
  {
   "cell_type": "code",
   "execution_count": 26,
   "metadata": {},
   "outputs": [
    {
     "name": "stdout",
     "output_type": "stream",
     "text": [
      "\n",
      "1\n",
      " . . . . .\n",
      "\n",
      "6\n",
      " . . . . 1\n",
      " 1 1 . . 1\n",
      " 1 . 1 1 .\n",
      " . . 1 . .\n",
      " . . . 1 .\n",
      " . 1 . . .\n",
      "\n",
      "15\n",
      " . . . 1 1\n",
      " 1 1 . . .\n",
      " . 1 . . 1\n",
      " . 1 1 1 1\n",
      " 1 . . . 1\n",
      " . . 1 . 1\n",
      " 1 . . 1 .\n",
      " 1 1 1 1 .\n",
      " 1 1 1 . 1\n",
      " 1 1 . 1 1\n",
      " . . 1 1 .\n",
      " 1 . 1 . .\n",
      " . 1 1 . .\n",
      " 1 . 1 1 1\n",
      " . 1 . 1 .\n",
      "\n",
      "10\n",
      " . . 1 1 1\n",
      " 1 1 . 1 .\n",
      " . 1 . 1 1\n",
      " . 1 1 1 .\n",
      " 1 . . . .\n",
      " . 1 1 . 1\n",
      " 1 1 1 . .\n",
      " 1 . . 1 1\n",
      " 1 1 1 1 1\n",
      " 1 . 1 . 1\n"
     ]
    }
   ],
   "source": [
    "for o in orbs_2 do\n",
    "    Print(\"\\n\", Size(o), \"\\n\");\n",
    "    Display(o);\n",
    "od;"
   ]
  },
  {
   "cell_type": "code",
   "execution_count": 44,
   "metadata": {},
   "outputs": [
    {
     "data": {
      "text/plain": [
       "[ <an immutable GF2 vector of length 5>, <an immutable GF2 vector of length 5>    , <an immutable GF2 vector of length 5>,   <an immutable GF2 vector of length 5> ]"
      ]
     },
     "execution_count": 44,
     "metadata": {
      "text/plain": ""
     },
     "output_type": "execute_result"
    }
   ],
   "source": [
    "repres_1 := [];\n",
    "for o in orbs_1 do\n",
    "    Add(repres_1, o[1]);\n",
    "od;"
   ]
  },
  {
   "cell_type": "code",
   "execution_count": 46,
   "metadata": {},
   "outputs": [
    {
     "name": "stdout",
     "output_type": "stream",
     "text": [
      " . . . . .\n",
      " . . . . 1\n",
      " . . . 1 .\n",
      " . 1 . . 1\n"
     ]
    }
   ],
   "source": [
    "Display(repres_1);"
   ]
  },
  {
   "cell_type": "code",
   "execution_count": 48,
   "metadata": {},
   "outputs": [
    {
     "data": {
      "text/plain": [
       "[ <matrix group of size 360 with 2 generators>,   <matrix group with 2 generators>, <matrix group with 3 generators>,   <matrix group with 3 generators> ]"
      ]
     },
     "execution_count": 47,
     "metadata": {
      "text/plain": ""
     },
     "output_type": "execute_result"
    }
   ],
   "source": [
    "His_1 := [];\n",
    "for rep in repres_1 do\n",
    "    Add(His_1, Stabilizer(mA_1, rep));\n",
    "od;"
   ]
  },
  {
   "cell_type": "code",
   "execution_count": 49,
   "metadata": {},
   "outputs": [
    {
     "name": "stdout",
     "output_type": "stream",
     "text": [
      "360\n",
      "36\n",
      "24\n",
      "60\n"
     ]
    }
   ],
   "source": [
    "for Hi in His_1 do\n",
    "    Display(Size(Hi));\n",
    "od;"
   ]
  },
  {
   "cell_type": "code",
   "execution_count": 51,
   "metadata": {},
   "outputs": [
    {
     "data": {
      "text/plain": [
       "Alt( [ 1 .. 6 ] )"
      ]
     },
     "execution_count": 50,
     "metadata": {
      "text/plain": ""
     },
     "output_type": "execute_result"
    },
    {
     "data": {
      "text/plain": [
       "Group(())"
      ]
     },
     "execution_count": 51,
     "metadata": {
      "text/plain": ""
     },
     "output_type": "execute_result"
    }
   ],
   "source": [
    "A6 := AlternatingGroup(6);\n",
    "Center(A6);"
   ]
  },
  {
   "cell_type": "code",
   "execution_count": 53,
   "metadata": {},
   "outputs": [
    {
     "data": {
      "text/plain": [
       "[ (1,2,3,4,5), (4,5,6) ]"
      ]
     },
     "execution_count": 52,
     "metadata": {
      "text/plain": ""
     },
     "output_type": "execute_result"
    },
    {
     "data": {
      "text/plain": [
       "CompositionMapping( [ (2,22,5,4,12)(3,31,6,23,16)(7,30,15,24,27)(8,9,11,21,18)(10,32,17,19,13)(14,    29,28,20,26), (3,21,23)(4,22,24)(5,15,12)(6,16,11)(7,27,30)(8,28,29)(9,18,    26)(10,17,25)(13,32,19)(14,31,20) ] -> [ (1,2,3,4,5), (4,5,6) ], <action isomorphism> )"
      ]
     },
     "execution_count": 53,
     "metadata": {
      "text/plain": ""
     },
     "output_type": "execute_result"
    }
   ],
   "source": [
    "#image of each generator is conjugation \n",
    "imgs := [(1,2,3,4,5), (4, 5, 6)];\n",
    "hom := GroupHomomorphismByImages(mA_1,A6,[m_sigma_inv_1, m_eta_inv_1],imgs);"
   ]
  },
  {
   "cell_type": "code",
   "execution_count": 55,
   "metadata": {},
   "outputs": [
    {
     "data": {
      "text/plain": [
       "[ Group([ (1,2,3,4,5), (4,5,6) ]), Group([ (4,5,6), (1,4)(2,5,3,6) ]),   Group([ (1,5,3)(2,6,4), (1,5,2)(3,6,4), (1,4)(5,6) ]),   Group([ (1,3,4)(2,6,5), (3,6)(4,5), (1,5,3,4,2) ]) ]"
      ]
     },
     "execution_count": 54,
     "metadata": {
      "text/plain": ""
     },
     "output_type": "execute_result"
    }
   ],
   "source": [
    "His_A6_1 := [];\n",
    "for Hi in His_1 do\n",
    "    Add(His_A6_1, hom(Hi));\n",
    "od;"
   ]
  },
  {
   "cell_type": "code",
   "execution_count": 57,
   "metadata": {},
   "outputs": [
    {
     "data": {
      "text/plain": [
       "[ CharacterTable( Alt( [ 1 .. 6 ] ) ),   CharacterTable( Group([ (4,5,6), (1,4)(2,5,3,6) ]) ),   CharacterTable( Group([ (1,5,3)(2,6,4), (1,5,2)(3,6,4), (1,4)(5,6) ]) ),   CharacterTable( Group([ (1,3,4)(2,6,5), (3,6)(4,5), (1,5,3,4,2) ]) ) ]"
      ]
     },
     "execution_count": 56,
     "metadata": {
      "text/plain": ""
     },
     "output_type": "execute_result"
    }
   ],
   "source": [
    "chis_1 := [];\n",
    "for Hi in His_A6_1 do\n",
    "    Add(chis_1, CharacterTable(Hi));\n",
    "od;"
   ]
  },
  {
   "cell_type": "code",
   "execution_count": 58,
   "metadata": {},
   "outputs": [
    {
     "name": "stdout",
     "output_type": "stream",
     "text": [
      "7\n"
     ]
    },
    {
     "name": "stdout",
     "output_type": "stream",
     "text": [
      "6\n",
      "5\n",
      "5\n"
     ]
    }
   ],
   "source": [
    "for chi in chis_1 do\n",
    "    Display(Size(Irr(chi)));\n",
    "od;"
   ]
  },
  {
   "cell_type": "code",
   "execution_count": 59,
   "metadata": {},
   "outputs": [
    {
     "data": {
      "text/plain": [
       "[ <an immutable GF2 vector of length 5>, <an immutable GF2 vector of length 5>    , <an immutable GF2 vector of length 5>,   <an immutable GF2 vector of length 5> ]"
      ]
     },
     "execution_count": 59,
     "metadata": {
      "text/plain": ""
     },
     "output_type": "execute_result"
    }
   ],
   "source": [
    "repres_2 := [];\n",
    "for o in orbs_2 do\n",
    "    Add(repres_2, o[1]);\n",
    "od;"
   ]
  },
  {
   "cell_type": "code",
   "execution_count": 61,
   "metadata": {},
   "outputs": [
    {
     "name": "stdout",
     "output_type": "stream",
     "text": [
      " . . . . .\n",
      " . . . . 1\n",
      " . . . 1 1\n",
      " . . 1 1 1\n"
     ]
    }
   ],
   "source": [
    "Display(repres_2);"
   ]
  },
  {
   "cell_type": "code",
   "execution_count": 63,
   "metadata": {},
   "outputs": [
    {
     "data": {
      "text/plain": [
       "[ <matrix group of size 360 with 2 generators>,   <matrix group with 3 generators>, <matrix group with 3 generators>,   <matrix group with 2 generators> ]"
      ]
     },
     "execution_count": 62,
     "metadata": {
      "text/plain": ""
     },
     "output_type": "execute_result"
    }
   ],
   "source": [
    "His_2 := [];\n",
    "for rep in repres_2 do\n",
    "    Add(His_2, Stabilizer(mA_2, rep));\n",
    "od;"
   ]
  },
  {
   "cell_type": "code",
   "execution_count": 64,
   "metadata": {},
   "outputs": [
    {
     "name": "stdout",
     "output_type": "stream",
     "text": [
      "360\n",
      "36\n",
      "24\n",
      "60\n"
     ]
    }
   ],
   "source": [
    "for Hi in His_1 do\n",
    "    Display(Size(Hi));\n",
    "od;"
   ]
  },
  {
   "cell_type": "code",
   "execution_count": 66,
   "metadata": {},
   "outputs": [
    {
     "data": {
      "text/plain": [
       "[ (1,2,3,4,5), (4,5,6) ]"
      ]
     },
     "execution_count": 65,
     "metadata": {
      "text/plain": ""
     },
     "output_type": "execute_result"
    },
    {
     "data": {
      "text/plain": [
       "CompositionMapping( [ (2,26,23,5,3)(4,25,16,19,7)(6,28,24,30,21)(8,27,15,12,17)(10,18,31,13,    11)(14,20,32,22,29), (3,9,5)(4,10,6)(7,11,13)(8,12,14)(17,29,27)(18,30,    28)(19,21,31)(20,22,32) ] -> [ (1,2,3,4,5), (4,5,6) ], <action isomorphism> )"
      ]
     },
     "execution_count": 66,
     "metadata": {
      "text/plain": ""
     },
     "output_type": "execute_result"
    }
   ],
   "source": [
    "#image of each generator is conjugation \n",
    "imgs := [(1,2,3,4,5), (4, 5, 6)];\n",
    "hom2 := GroupHomomorphismByImages(mA_2,A6,[m_sigma_inv_2, m_eta_inv_2],imgs);"
   ]
  },
  {
   "cell_type": "code",
   "execution_count": 68,
   "metadata": {},
   "outputs": [
    {
     "data": {
      "text/plain": [
       "[ Group([ (1,2,3,4,5), (4,5,6) ]), Group([ (4,5,6), (3,4,6), (2,3,6) ]),   Group([ (3,4,6), (2,3,6), (1,5)(3,6) ]),   Group([ (3,6)(4,5), (1,6,5,3)(2,4) ]) ]"
      ]
     },
     "execution_count": 67,
     "metadata": {
      "text/plain": ""
     },
     "output_type": "execute_result"
    }
   ],
   "source": [
    "His_A6_2 := [];\n",
    "for Hi in His_2 do\n",
    "    Add(His_A6_2, hom2(Hi));\n",
    "od;"
   ]
  },
  {
   "cell_type": "code",
   "execution_count": 70,
   "metadata": {},
   "outputs": [
    {
     "data": {
      "text/plain": [
       "[ CharacterTable( Alt( [ 1 .. 6 ] ) ), CharacterTable( Alt( [ 2 .. 6 ] ) ),   CharacterTable( Group([ (3,4,6), (2,3,6), (1,5)(3,6) ]) ),   CharacterTable( Group([ (3,6)(4,5), (1,6,5,3)(2,4) ]) ) ]"
      ]
     },
     "execution_count": 69,
     "metadata": {
      "text/plain": ""
     },
     "output_type": "execute_result"
    }
   ],
   "source": [
    "chis_2 := [];\n",
    "for Hi in His_A6_2 do\n",
    "    Add(chis_2, CharacterTable(Hi));\n",
    "od;"
   ]
  },
  {
   "cell_type": "code",
   "execution_count": 71,
   "metadata": {},
   "outputs": [
    {
     "name": "stdout",
     "output_type": "stream",
     "text": [
      "7\n",
      "5\n",
      "5\n",
      "6\n"
     ]
    }
   ],
   "source": [
    "for chi in chis_2 do\n",
    "    Display(Size(Irr(chi)));\n",
    "od;"
   ]
  },
  {
   "cell_type": "code",
   "execution_count": 74,
   "metadata": {},
   "outputs": [
    {
     "name": "stdout",
     "output_type": "stream",
     "text": [
      "true\n",
      "false\n",
      "true\n",
      "false\n"
     ]
    }
   ],
   "source": [
    "for i in [1..Size(His_1)] do\n",
    "    Print(IsomorphismGroups(His_1[i], His_2[i]) <> fail, \"\\n\");\n",
    "od;"
   ]
  },
  {
   "cell_type": "markdown",
   "metadata": {},
   "source": [
    "# smaller"
   ]
  },
  {
   "cell_type": "code",
   "execution_count": 77,
   "metadata": {},
   "outputs": [
    {
     "data": {
      "text/plain": [
       "<pc group of size 2 with 1 generator>"
      ]
     },
     "execution_count": 75,
     "metadata": {
      "text/plain": ""
     },
     "output_type": "execute_result"
    },
    {
     "data": {
      "text/plain": [
       "<pc group of size 32 with 5 generators>"
      ]
     },
     "execution_count": 76,
     "metadata": {
      "text/plain": ""
     },
     "output_type": "execute_result"
    },
    {
     "data": {
      "text/plain": [
       "f1*f3"
      ]
     },
     "execution_count": 77,
     "metadata": {
      "text/plain": ""
     },
     "output_type": "execute_result"
    }
   ],
   "source": [
    "Z2 := CyclicGroup(2);\n",
    "\n",
    "Z25 := DirectProduct(Z2, Z2, Z2, Z2, Z2);\n",
    "Random(Z25);"
   ]
  },
  {
   "cell_type": "code",
   "execution_count": 79,
   "metadata": {},
   "outputs": [
    {
     "data": {
      "text/plain": [
       "<group with 4 generators>"
      ]
     },
     "execution_count": 78,
     "metadata": {
      "text/plain": ""
     },
     "output_type": "execute_result"
    },
    {
     "data": {
      "text/plain": [
       "[ f1, f2, f3, f4, f5 ] -> [ f3*f4, f1*f3*f4*f5, f1*f2*f4, f1*f3*f4, f1*f4 ]"
      ]
     },
     "execution_count": 79,
     "metadata": {
      "text/plain": ""
     },
     "output_type": "execute_result"
    }
   ],
   "source": [
    "autZ25 := AutomorphismGroup(Z25);\n",
    "Random(autZ25);"
   ]
  },
  {
   "cell_type": "code",
   "execution_count": 81,
   "metadata": {},
   "outputs": [
    {
     "data": {
      "text/plain": [
       "[ f1*f3, f1*f4*f5, f1*f2*f3*f4, f1*f2*f4*f5, f1*f2*f3*f4*f5 ]"
      ]
     },
     "execution_count": 80,
     "metadata": {
      "text/plain": ""
     },
     "output_type": "execute_result"
    },
    {
     "data": {
      "text/plain": [
       "[ f2*f4, f1*f2*f3, f4, f3*f4, f1*f2*f3*f5 ]"
      ]
     },
     "execution_count": 81,
     "metadata": {
      "text/plain": ""
     },
     "output_type": "execute_result"
    }
   ],
   "source": [
    "i1 := [Z25.1*Z25.3, Z25.1*Z25.4*Z25.5, Z25.1*Z25.2*Z25.3*Z25.4, Z25.1*Z25.2*Z25.4*Z25.5, Z25.1*Z25.2*Z25.3*Z25.4*Z25.5];\n",
    "i2 := [Z25.2*Z25.4, Z25.1*Z25.2*Z25.3, Z25.4, Z25.3*Z25.4, Z25.1*Z25.2*Z25.3*Z25.5];"
   ]
  },
  {
   "cell_type": "code",
   "execution_count": 83,
   "metadata": {},
   "outputs": [
    {
     "data": {
      "text/plain": [
       "[ f3, f1*f2, f3*f4, f1*f3*f5, f1 ]"
      ]
     },
     "execution_count": 82,
     "metadata": {
      "text/plain": ""
     },
     "output_type": "execute_result"
    },
    {
     "data": {
      "text/plain": [
       "[ f1, f1*f3, f4, f1*f2, f5 ]"
      ]
     },
     "execution_count": 83,
     "metadata": {
      "text/plain": ""
     },
     "output_type": "execute_result"
    }
   ],
   "source": [
    "i3 := [Z25.3, Z25.1*Z25.2, Z25.3*Z25.4, Z25.1*Z25.3*Z25.5, Z25.1];\n",
    "i4 := [Z25.1, Z25.1*Z25.3, Z25.4, Z25.1*Z25.2, Z25.5];"
   ]
  },
  {
   "cell_type": "code",
   "execution_count": 84,
   "metadata": {},
   "outputs": [
    {
     "data": {
      "text/plain": [
       "Alt( [ 1 .. 6 ] )"
      ]
     },
     "execution_count": 84,
     "metadata": {
      "text/plain": ""
     },
     "output_type": "execute_result"
    }
   ],
   "source": [
    "A6 := AlternatingGroup(6);"
   ]
  },
  {
   "cell_type": "code",
   "execution_count": 87,
   "metadata": {},
   "outputs": [
    {
     "data": {
      "text/plain": [
       "[ (1,2,3,4,5), (4,5,6) ]"
      ]
     },
     "execution_count": 85,
     "metadata": {
      "text/plain": ""
     },
     "output_type": "execute_result"
    },
    {
     "data": {
      "text/plain": [
       "[ [ f1, f2, f3, f4, f5 ] -> [ f1*f3, f1*f4*f5, f1*f2*f3*f4, f1*f2*f4*f5,       f1*f2*f3*f4*f5 ],   [ f1, f2, f3, f4, f5 ] -> [ f2*f4, f1*f2*f3, f4, f3*f4, f1*f2*f3*f5 ] ]"
      ]
     },
     "execution_count": 86,
     "metadata": {
      "text/plain": ""
     },
     "output_type": "execute_result"
    },
    {
     "data": {
      "text/plain": [
       "[ (1,2,3,4,5), (4,5,6) ] -> [ [ f1, f2, f3, f4, f5 ] -> [ f1*f3, f1*f4*f5, f1*f2*f3*f4, f1*f2*f4*f5,       f1*f2*f3*f4*f5 ],   [ f1, f2, f3, f4, f5 ] -> [ f2*f4, f1*f2*f3, f4, f3*f4, f1*f2*f3*f5 ] ]"
      ]
     },
     "execution_count": 87,
     "metadata": {
      "text/plain": ""
     },
     "output_type": "execute_result"
    }
   ],
   "source": [
    "#generators of H \n",
    "gens_H := [(1,2,3,4,5), (4,5,6)];\n",
    "#image of each generator is conjugation \n",
    "imgs := [GroupHomomorphismByImages(Z25, Z25, GeneratorsOfGroup(Z25), i1), GroupHomomorphismByImages(Z25, Z25, GeneratorsOfGroup(Z25), i2)];\n",
    "\n",
    "hom_1 := GroupHomomorphismByImages(A6,autZ25,gens_H,imgs);"
   ]
  },
  {
   "cell_type": "code",
   "execution_count": 90,
   "metadata": {},
   "outputs": [
    {
     "data": {
      "text/plain": [
       "[ (1,2,3,4,5), (4,5,6) ]"
      ]
     },
     "execution_count": 88,
     "metadata": {
      "text/plain": ""
     },
     "output_type": "execute_result"
    },
    {
     "data": {
      "text/plain": [
       "[ [ f1, f2, f3, f4, f5 ] -> [ f1*f3, f1*f4*f5, f1*f2*f3*f4, f1*f2*f4*f5,       f1*f2*f3*f4*f5 ],   [ f1, f2, f3, f4, f5 ] -> [ f2*f4, f1*f2*f3, f4, f3*f4, f1*f2*f3*f5 ] ]"
      ]
     },
     "execution_count": 89,
     "metadata": {
      "text/plain": ""
     },
     "output_type": "execute_result"
    },
    {
     "data": {
      "text/plain": [
       "[ (1,2,3,4,5), (4,5,6) ] -> [ [ f1, f2, f3, f4, f5 ] -> [ f1*f3, f1*f4*f5, f1*f2*f3*f4, f1*f2*f4*f5,       f1*f2*f3*f4*f5 ],   [ f1, f2, f3, f4, f5 ] -> [ f2*f4, f1*f2*f3, f4, f3*f4, f1*f2*f3*f5 ] ]"
      ]
     },
     "execution_count": 90,
     "metadata": {
      "text/plain": ""
     },
     "output_type": "execute_result"
    }
   ],
   "source": [
    "#generators of H \n",
    "gens_H := [(1,2,3,4,5), (4,5,6)];\n",
    "#image of each generator is conjugation \n",
    "imgs := [GroupHomomorphismByImages(Z25, Z25, GeneratorsOfGroup(Z25), i1), GroupHomomorphismByImages(Z25, Z25, GeneratorsOfGroup(Z25), i2)];\n",
    "\n",
    "hom_2 := GroupHomomorphismByImages(A6,autZ25,gens_H,imgs);"
   ]
  },
  {
   "cell_type": "code",
   "execution_count": 92,
   "metadata": {},
   "outputs": [
    {
     "data": {
      "text/plain": [
       "<permutation group with 7 generators>"
      ]
     },
     "execution_count": 91,
     "metadata": {
      "text/plain": ""
     },
     "output_type": "execute_result"
    },
    {
     "data": {
      "text/plain": [
       "<permutation group with 7 generators>"
      ]
     },
     "execution_count": 92,
     "metadata": {
      "text/plain": ""
     },
     "output_type": "execute_result"
    }
   ],
   "source": [
    "test_2 := SemidirectProduct(A6, hom_1, Z25);\n",
    "test_3 := SemidirectProduct(A6, hom_2, Z25);"
   ]
  },
  {
   "cell_type": "code",
   "execution_count": 94,
   "metadata": {},
   "outputs": [
    {
     "data": {
      "text/plain": [
       "[ (1,2,5)(4,8,7)(9,10,13)(12,16,15)(18,22,21)(19,20,23)(26,30,29)(27,28,31),   (1,22)(2,24,4,21,3,23)(5,9,13,18,30,26)(6,11,16,17,32,27)(7,12,14,20,31,    25)(8,10,15,19,29,28) ] -> [ (1,2,5)(4,8,7)(9,10,13)(12,16,15)(18,22,21)(19,20,23)(26,30,29)(27,28,31),   (1,22)(2,24,4,21,3,23)(5,9,13,18,30,26)(6,11,16,17,32,27)(7,12,14,20,31,    25)(8,10,15,19,29,28) ]"
      ]
     },
     "execution_count": 94,
     "metadata": {
      "text/plain": ""
     },
     "output_type": "execute_result"
    }
   ],
   "source": [
    "r := IsomorphismGroups(test_2, test_3);"
   ]
  },
  {
   "cell_type": "code",
   "execution_count": 200,
   "metadata": {},
   "outputs": [
    {
     "data": {
      "text/plain": [
       "(1,4)(2,3)"
      ]
     },
     "execution_count": 197,
     "metadata": {
      "text/plain": ""
     },
     "output_type": "execute_result"
    },
    {
     "data": {
      "text/plain": [
       "[ (1,2,3,4,5), (4,5,6) ] -> [ (2,32,30,7,6)(3,28,4,5,31)(8,27,29,26,25)(9,20,17,21,11)(10,13,14,19,16)(12,    24,15,23,18), (2,30,10)(3,7,5)(4,28,14)(6,32,16)(8,26,12)(9,29,21)(11,27,    17)(13,31,19)(15,25,23)(18,24,20) ]"
      ]
     },
     "execution_count": 198,
     "metadata": {
      "text/plain": ""
     },
     "output_type": "execute_result"
    },
    {
     "data": {
      "text/plain": [
       "[ (2,32,30,7,6)(3,28,4,5,31)(8,27,29,26,25)(9,20,17,21,11)(10,13,14,19,16)(12,    24,15,23,18), (2,30,10)(3,7,5)(4,28,14)(6,32,16)(8,26,12)(9,29,21)(11,27,    17)(13,31,19)(15,25,23)(18,24,20), (1,17)(2,18)(3,19)(4,20)(5,21)(6,22)(7,    23)(8,24)(9,25)(10,26)(11,27)(12,28)(13,29)(14,30)(15,31)(16,32),   (1,9)(2,10)(3,11)(4,12)(5,13)(6,14)(7,15)(8,16)(17,25)(18,26)(19,27)(20,    28)(21,29)(22,30)(23,31)(24,32), (1,5)(2,6)(3,7)(4,8)(9,13)(10,14)(11,    15)(12,16)(17,21)(18,22)(19,23)(20,24)(25,29)(26,30)(27,31)(28,32),   (1,3)(2,4)(5,7)(6,8)(9,11)(10,12)(13,15)(14,16)(17,19)(18,20)(21,23)(22,    24)(25,27)(26,28)(29,31)(30,32), (1,2)(3,4)(5,6)(7,8)(9,10)(11,12)(13,    14)(15,16)(17,18)(19,20)(21,22)(23,24)(25,26)(27,28)(29,30)(31,32) ] -> [ (1,2,3,4,5), (4,5,6), (), (), (), (), () ]"
      ]
     },
     "execution_count": 199,
     "metadata": {
      "text/plain": ""
     },
     "output_type": "execute_result"
    }
   ],
   "source": [
    "p := Random(A6);\n",
    "e1 := Embedding(test_2, 1);\n",
    "p1:= Projection(test_3);\n",
    "\n",
    "for p in A6 do\n",
    "    if p <> p1(r(e1(p))) then\n",
    "        Print(\"PROBLEM\\n\");\n",
    "    fi;\n",
    "od;\n",
    "\n"
   ]
  },
  {
   "cell_type": "code",
   "execution_count": 1,
   "metadata": {},
   "outputs": [
    {
     "data": {
      "text/plain": [
       "function( G ) ... end"
      ]
     },
     "execution_count": 1,
     "metadata": {
      "text/plain": ""
     },
     "output_type": "execute_result"
    }
   ],
   "source": [
    "numComm := function(G)\n",
    "    # Check if g belongs to the derived subgroup using the theorem\n",
    "    local numCommutator, chi, tbl, sm, i, classes; \n",
    "    numCommutator := 0;\n",
    "    tbl := CharacterTable(G);\n",
    "    classes := ConjugacyClasses(tbl);\n",
    "\n",
    "\n",
    "    #Print(\"Table: \", Irr(tbl), \"\\n\");\n",
    "    for i in [1..NrConjugacyClasses(tbl)] do\n",
    "        #Print(\"New Class: \", i, \"\\n\\n\");\n",
    "        sm := 0;\n",
    "        for chi in Irr(tbl) do\n",
    "        #Print(\"Character = \", chi, \"\\n\");\n",
    "            #Print(chi[i], \" / \", chi[1], \"\\n\");\n",
    "            sm := sm + (chi[i] / chi[1]);\n",
    "        od;\n",
    "        Print(\"sum = \", Order(G) * sm,  \"\\n\");\n",
    "        if sm = 0 then\n",
    "            Print(i, \"\\n\");\n",
    "            numCommutator := numCommutator + Size(classes[i]);\n",
    "        fi;\n",
    "    od;\n",
    "    \n",
    "    Print(\"\\n\");\n",
    "    \n",
    "    \n",
    "    return numCommutator;\n",
    "end;"
   ]
  },
  {
   "cell_type": "code",
   "execution_count": 1,
   "metadata": {},
   "outputs": [
    {
     "name": "stderr",
     "output_type": "stream",
     "text": [
      "Error, Variable: 'test_2' must have a value\n",
      "not in any function at stream:1\n",
      "Error, Variable: 'test_3' must have a value\n",
      "not in any function at stream:2\n"
     ]
    }
   ],
   "source": [
    "Order(Center(test_2));\n",
    "Order(Center(test_3));"
   ]
  },
  {
   "cell_type": "code",
   "execution_count": 5,
   "metadata": {},
   "outputs": [
    {
     "name": "stdout",
     "output_type": "stream",
     "text": [
      "sum = 32440320\n",
      "sum = 7962624\n",
      "sum = 7864320\n",
      "sum = 1474560\n",
      "sum = 3964928\n",
      "sum = 1736704\n",
      "sum = 3080192\n",
      "sum = 1966080\n",
      "sum = 589824\n",
      "sum = 7962624\n",
      "sum = 98304\n",
      "sum = 2359296\n",
      "sum = 1376256\n",
      "sum = 1736704\n",
      "sum = 3964928\n",
      "sum = 7864320\n",
      "sum = 0\n",
      "17\n",
      "sum = 98304\n",
      "sum = 589824\n",
      "sum = 1474560\n",
      "sum = 753664\n",
      "sum = 524288\n",
      "sum = 753664\n",
      "sum = 622592\n",
      "sum = 622592\n",
      "sum = 622592\n",
      "sum = 393216\n",
      "sum = 622592\n",
      "sum = 491520\n",
      "sum = 491520\n",
      "sum = 393216\n",
      "sum = 393216\n",
      "sum = 393216\n",
      "sum = 393216\n",
      "sum = 524288\n",
      "sum = 393216\n",
      "sum = 393216\n",
      "sum = 524288\n",
      "sum = 622592\n",
      "sum = 524288\n",
      "sum = 622592\n",
      "sum = 753664\n",
      "sum = 753664\n",
      "sum = 491520\n",
      "sum = 393216\n",
      "sum = 491520\n",
      "sum = 622592\n",
      "sum = 622592\n",
      "sum = 1161216\n",
      "sum = 497664\n",
      "sum = 681984\n",
      "sum = 165888\n",
      "sum = 276480\n",
      "sum = 276480\n",
      "sum = 165888\n",
      "sum = 165888\n",
      "sum = 1161216\n",
      "sum = 276480\n",
      "sum = 681984\n",
      "sum = 165888\n",
      "sum = 276480\n",
      "sum = 497664\n",
      "sum = 165888\n",
      "sum = 165888\n",
      "sum = 262144\n",
      "sum = 262144\n",
      "sum = 262144\n",
      "sum = 262144\n",
      "sum = 262144\n",
      "sum = 262144\n",
      "sum = 262144\n",
      "sum = 262144\n",
      "sum = 262144\n",
      "sum = 262144\n",
      "sum = 262144\n",
      "sum = 262144\n",
      "sum = 262144\n",
      "sum = 262144\n",
      "sum = 262144\n",
      "sum = 262144\n",
      "sum = 358400\n",
      "sum = 256000\n",
      "sum = 358400\n",
      "sum = 522240\n",
      "sum = 522240\n",
      "sum = 358400\n",
      "sum = 256000\n",
      "sum = 358400\n",
      "\n"
     ]
    },
    {
     "data": {
      "text/plain": [
       "368640"
      ]
     },
     "execution_count": 2,
     "metadata": {
      "text/plain": ""
     },
     "output_type": "execute_result"
    },
    {
     "data": {
      "text/plain": [
       "31"
      ]
     },
     "execution_count": 3,
     "metadata": {
      "text/plain": ""
     },
     "output_type": "execute_result"
    },
    {
     "data": {
      "text/plain": [
       "PG368640.31"
      ]
     },
     "execution_count": 4,
     "metadata": {
      "text/plain": ""
     },
     "output_type": "execute_result"
    },
    {
     "data": {
      "text/plain": [
       "1"
      ]
     },
     "execution_count": 5,
     "metadata": {
      "text/plain": ""
     },
     "output_type": "execute_result"
    }
   ],
   "source": [
    "n := 368640;\n",
    "k := 31;\n",
    "\n",
    "pg1 := PerfectGroup(n,k);\n",
    "chi := numComm(pg1);"
   ]
  },
  {
   "cell_type": "code",
   "execution_count": 6,
   "metadata": {},
   "outputs": [
    {
     "name": "stdout",
     "output_type": "stream",
     "text": [
      "sum = 2520\n",
      "sum = 472\n",
      "sum = 378\n",
      "sum = 378\n",
      "sum = 256\n",
      "sum = 365\n",
      "sum = 365\n",
      "\n"
     ]
    },
    {
     "data": {
      "text/plain": [
       "0"
      ]
     },
     "execution_count": 6,
     "metadata": {
      "text/plain": ""
     },
     "output_type": "execute_result"
    }
   ],
   "source": [
    "numComm(AlternatingGroup(6));"
   ]
  },
  {
   "cell_type": "code",
   "execution_count": 118,
   "metadata": {},
   "outputs": [
    {
     "name": "stdout",
     "output_type": "stream",
     "text": [
      "sum = 23\n",
      "sum = 1\n",
      "sum = 93\n",
      "sum = 107\n",
      "sum = 360\n",
      "sum = 72\n",
      "sum = 552\n",
      "sum = 360\n",
      "sum = 232\n",
      "sum = 296\n",
      "sum = 832\n",
      "sum = 296\n",
      "sum = 232\n",
      "sum = 512\n",
      "sum = 512\n",
      "sum = 512\n",
      "sum = 512\n",
      "sum = 432\n",
      "sum = 912\n",
      "sum = 960\n",
      "sum = 1376\n",
      "sum = 960\n",
      "sum = 1376\n",
      "\n",
      "sum = 23\n",
      "sum = 1\n",
      "sum = 93\n",
      "sum = 107\n",
      "sum = 360\n",
      "sum = 72\n",
      "sum = 552\n",
      "sum = 360\n",
      "sum = 232\n",
      "sum = 296\n",
      "sum = 832\n",
      "sum = 296\n",
      "sum = 232\n",
      "sum = 512\n",
      "sum = 512\n",
      "sum = 512\n",
      "sum = 512\n",
      "sum = 432\n",
      "sum = 912\n",
      "sum = 960\n",
      "sum = 1376\n",
      "sum = 960\n",
      "sum = 1376\n",
      "\n"
     ]
    },
    {
     "data": {
      "text/plain": [
       "0"
      ]
     },
     "execution_count": 117,
     "metadata": {
      "text/plain": ""
     },
     "output_type": "execute_result"
    },
    {
     "data": {
      "text/plain": [
       "0"
      ]
     },
     "execution_count": 118,
     "metadata": {
      "text/plain": ""
     },
     "output_type": "execute_result"
    }
   ],
   "source": [
    "numComm(test_2);\n",
    "numComm(test_3);"
   ]
  },
  {
   "cell_type": "code",
   "execution_count": 67,
   "metadata": {},
   "outputs": [
    {
     "data": {
      "text/plain": [
       "[ (1,2,5)(4,8,7)(9,10,13)(12,16,15)(18,22,21)(19,20,23)(26,30,29)(27,28,31),   (1,22)(2,24,4,21,3,23)(5,9,13,18,30,26)(6,11,16,17,32,27)(7,12,14,20,31,    25)(8,10,15,19,29,28) ] -> [ (1,2,5)(4,8,7)(9,10,13)(12,16,15)(18,22,21)(19,20,23)(26,30,29)(27,28,31),   (1,22)(2,24,4,21,3,23)(5,9,13,18,30,26)(6,11,16,17,32,27)(7,12,14,20,31,    25)(8,10,15,19,29,28) ]"
      ]
     },
     "execution_count": 67,
     "metadata": {
      "text/plain": ""
     },
     "output_type": "execute_result"
    }
   ],
   "source": [
    "IsomorphismGroups(test_2, test_3);"
   ]
  },
  {
   "cell_type": "code",
   "execution_count": 69,
   "metadata": {},
   "outputs": [
    {
     "data": {
      "text/plain": [
       "true"
      ]
     },
     "execution_count": 69,
     "metadata": {
      "text/plain": ""
     },
     "output_type": "execute_result"
    }
   ],
   "source": [
    "IsPerfect(test_3);"
   ]
  },
  {
   "cell_type": "code",
   "execution_count": 11,
   "metadata": {},
   "outputs": [
    {
     "data": {
      "text/plain": [
       "<pc group of size 2 with 1 generator>"
      ]
     },
     "execution_count": 9,
     "metadata": {
      "text/plain": ""
     },
     "output_type": "execute_result"
    },
    {
     "data": {
      "text/plain": [
       "<pc group of size 16 with 4 generators>"
      ]
     },
     "execution_count": 10,
     "metadata": {
      "text/plain": ""
     },
     "output_type": "execute_result"
    },
    {
     "data": {
      "text/plain": [
       "f2"
      ]
     },
     "execution_count": 11,
     "metadata": {
      "text/plain": ""
     },
     "output_type": "execute_result"
    }
   ],
   "source": [
    "Z2 := CyclicGroup(2);\n",
    "\n",
    "Z25 := DirectProduct(Z2, Z2, Z2, Z2);\n",
    "Random(Z24);"
   ]
  },
  {
   "cell_type": "code",
   "execution_count": 13,
   "metadata": {},
   "outputs": [
    {
     "data": {
      "text/plain": [
       "<group with 4 generators>"
      ]
     },
     "execution_count": 12,
     "metadata": {
      "text/plain": ""
     },
     "output_type": "execute_result"
    },
    {
     "data": {
      "text/plain": [
       "[ f1, f2, f3, f4 ] -> [ f1, f2*f3, f3*f4, f4 ]"
      ]
     },
     "execution_count": 13,
     "metadata": {
      "text/plain": ""
     },
     "output_type": "execute_result"
    }
   ],
   "source": [
    "autZ25 := AutomorphismGroup(Z25);\n",
    "Random(autZ25);"
   ]
  },
  {
   "cell_type": "code",
   "execution_count": 15,
   "metadata": {},
   "outputs": [
    {
     "data": {
      "text/plain": [
       "1"
      ]
     },
     "execution_count": 15,
     "metadata": {
      "text/plain": ""
     },
     "output_type": "execute_result"
    }
   ],
   "source": [
    "Size(IsomorphicSubgroups(autZ25, A6));"
   ]
  },
  {
   "cell_type": "code",
   "execution_count": 53,
   "metadata": {},
   "outputs": [
    {
     "data": {
      "text/plain": [
       "Alt( [ 1 .. 5 ] )"
      ]
     },
     "execution_count": 52,
     "metadata": {
      "text/plain": ""
     },
     "output_type": "execute_result"
    },
    {
     "data": {
      "text/plain": [
       "true"
      ]
     },
     "execution_count": 53,
     "metadata": {
      "text/plain": ""
     },
     "output_type": "execute_result"
    }
   ],
   "source": [
    "A5 := AlternatingGroup(5);\n",
    "IsSubgroup(A6, A5);"
   ]
  },
  {
   "cell_type": "code",
   "execution_count": 72,
   "metadata": {},
   "outputs": [
    {
     "data": {
      "text/plain": [
       "[ (1,2,3,4,5), (3,4,5) ] -> [ [ f1*f4*f5, f2*f4, f4*f5, f1*f2*f3*f4, f3*f5 ] -> Pcgs([ f1, f2, f3, f4, f5      ]), [ f2*f4, f1*f2*f5, f1*f2*f3*f5, f4*f5, f4 ] -> Pcgs(    [ f1, f2, f3, f4, f5 ]) ]"
      ]
     },
     "execution_count": 72,
     "metadata": {
      "text/plain": ""
     },
     "output_type": "execute_result"
    }
   ],
   "source": [
    "h_1 := RestrictedMapping(hom_1, A5);"
   ]
  },
  {
   "cell_type": "code",
   "execution_count": 73,
   "metadata": {},
   "outputs": [
    {
     "data": {
      "text/plain": [
       "<permutation group with 7 generators>"
      ]
     },
     "execution_count": 73,
     "metadata": {
      "text/plain": ""
     },
     "output_type": "execute_result"
    }
   ],
   "source": [
    "test_4 := SemidirectProduct(A5, h_1, Z25);"
   ]
  },
  {
   "cell_type": "code",
   "execution_count": 76,
   "metadata": {},
   "outputs": [
    {
     "data": {
      "text/plain": [
       "Group([ (1,22)(2,21)(3,24)(4,23)(5,18)(6,17)(7,20)(8,19)(9,30)(10,29)(11,32)  (12,31)(13,26)(14,25)(15,28)(16,27) ])"
      ]
     },
     "execution_count": 76,
     "metadata": {
      "text/plain": ""
     },
     "output_type": "execute_result"
    }
   ],
   "source": [
    "Center(test_4);"
   ]
  }
 ],
 "metadata": {
  "kernelspec": {
   "display_name": "GAP 4",
   "language": "gap",
   "name": "gap-4"
  },
  "language_info": {
   "codemirror_mode": "gap",
   "file_extension": ".g",
   "mimetype": "text/x-gap",
   "name": "gap",
   "nbconvert_exporter": "",
   "pygments_lexer": "gap",
   "version": "4.14.0"
  }
 },
 "nbformat": 4,
 "nbformat_minor": 2
}
